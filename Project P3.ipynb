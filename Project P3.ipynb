{
 "cells": [
  {
   "attachments": {},
   "cell_type": "markdown",
   "id": "60e61cdc",
   "metadata": {},
   "source": [
    "**Deep Learning**\n",
    "\n",
    "**Practice 3.1 - GANs**\n",
    "\n",
    "**Marcelo Ferrer - Aymen Merchaoui**\n"
   ]
  },
  {
   "attachments": {},
   "cell_type": "markdown",
   "id": "fc941255",
   "metadata": {},
   "source": [
    "## 1. Imports, declarations and configuration\n",
    "\n",
    "In this section we define the necessary imports, declarations and configuration to run the application. "
   ]
  },
  {
   "cell_type": "code",
   "execution_count": 1,
   "id": "162bc9e1",
   "metadata": {},
   "outputs": [
    {
     "name": "stdout",
     "output_type": "stream",
     "text": [
      "Using GPU\n"
     ]
    }
   ],
   "source": [
    "# Verify that GPU is active\n",
    "import tensorflow as tf\n",
    "\n",
    "gpu_active = tf.config.list_physical_devices('GPU')\n",
    "\n",
    "if (len(gpu_active) == 0):\n",
    "    print(\"NO GPU ACTIVE!!!\")\n",
    "else:\n",
    "    print(\"Using GPU\")"
   ]
  },
  {
   "cell_type": "code",
   "execution_count": null,
   "id": "91706efe",
   "metadata": {},
   "outputs": [],
   "source": [
    "import numpy as np\n",
    "import glob, os\n",
    "from keras.preprocessing.image import ImageDataGenerator\n",
    "from keras.layers import Input, Conv2D, Flatten, Dense, Conv2DTranspose, Reshape, Lambda, Activation, BatchNormalization, LeakyReLU, Dropout\n",
    "from keras.models import Model\n",
    "from keras import backend as K\n",
    "from tensorflow.keras.optimizers import Adam\n",
    "from keras.callbacks import ModelCheckpoint "
   ]
  },
  {
   "cell_type": "code",
   "execution_count": null,
   "id": "d3bd170d",
   "metadata": {},
   "outputs": [],
   "source": [
    "os.environ['KMP_DUPLICATE_LIB_OK'] = 'True'"
   ]
  },
  {
   "attachments": {},
   "cell_type": "markdown",
   "id": "bcad581e",
   "metadata": {},
   "source": [
    "Load the images"
   ]
  },
  {
   "cell_type": "code",
   "execution_count": null,
   "id": "7bcff567",
   "metadata": {},
   "outputs": [],
   "source": [
    "import os\n",
    "\n",
    "# Get the current working directory\n",
    "cwd = os.getcwd()\n",
    "\n",
    "# Get a list of files in the current directory\n",
    "files = os.listdir(cwd)\n",
    "\n",
    "# Print the list of files\n",
    "print(files)\n"
   ]
  },
  {
   "cell_type": "code",
   "execution_count": null,
   "id": "c84ced10",
   "metadata": {},
   "outputs": [],
   "source": [
    "\n",
    "DATA_FOLDER = \"dataset/img_align_celeba/img_align_celeba\"\n",
    "#WEIGHTS_FOLDER = 'dataset/weights'\n",
    "\n",
    "\n",
    "#if not os.path.exists(WEIGHTS_FOLDER):\n",
    "#    os.makedirs(os.path.join(WEIGHTS_FOLDER,\"AE\"))\n",
    "#    os.makedirs(os.path.join(WEIGHTS_FOLDER,\"VAE\"))\n",
    "\n",
    "\n",
    "filenames = np.array(glob.glob(os.path.join(DATA_FOLDER, '*/*.jpg')))\n",
    "NUM_IMAGES = len(filenames)\n",
    "print(\"Total number of images : \" + str(NUM_IMAGES))\n",
    "# prints : Total number of images : 202599"
   ]
  }
 ],
 "metadata": {
  "kernelspec": {
   "display_name": "Python 3 (ipykernel)",
   "language": "python",
   "name": "python3"
  },
  "language_info": {
   "codemirror_mode": {
    "name": "ipython",
    "version": 3
   },
   "file_extension": ".py",
   "mimetype": "text/x-python",
   "name": "python",
   "nbconvert_exporter": "python",
   "pygments_lexer": "ipython3",
   "version": "3.9.16"
  }
 },
 "nbformat": 4,
 "nbformat_minor": 5
}
